{
 "cells": [
  {
   "cell_type": "code",
   "execution_count": 1,
   "metadata": {},
   "outputs": [],
   "source": [
    "import polars as pl\n",
    "import os"
   ]
  },
  {
   "cell_type": "code",
   "execution_count": 2,
   "metadata": {},
   "outputs": [],
   "source": [
    "RAW_DATA_FOLDER = \"raw_data\"\n",
    "STAGING_DATA_FOLDER = \"staging_data\""
   ]
  },
  {
   "cell_type": "code",
   "execution_count": 3,
   "metadata": {},
   "outputs": [],
   "source": [
    "ridership = pl.scan_csv(os.path.join(RAW_DATA_FOLDER, \"Ridership.csv\")).with_columns(\n",
    "    pl.col(\"Stop Id\").str.replace_all(\",\", \"\").cast(pl.UInt16),\n",
    ")"
   ]
  },
  {
   "cell_type": "code",
   "execution_count": 4,
   "metadata": {},
   "outputs": [],
   "source": [
    "ridership.select([\"Line\", \"Direction Number\", \"Sequence\", \"Stop Id\"]).unique().sort(\"Stop Id\").collect(\n",
    "    streaming=True\n",
    ").write_csv(os.path.join(STAGING_DATA_FOLDER, \"line_sequence_stop.csv\"))"
   ]
  },
  {
   "cell_type": "code",
   "execution_count": 5,
   "metadata": {},
   "outputs": [],
   "source": [
    "ridership.select([\"Stop Id\", \"Stop Name\"]).unique().sort(\"Stop Id\").collect(\n",
    "    streaming=True\n",
    ").write_csv(os.path.join(STAGING_DATA_FOLDER, \"stop_names.csv\"))"
   ]
  }
 ],
 "metadata": {
  "kernelspec": {
   "display_name": "Python 3",
   "language": "python",
   "name": "python3"
  },
  "language_info": {
   "codemirror_mode": {
    "name": "ipython",
    "version": 3
   },
   "file_extension": ".py",
   "mimetype": "text/x-python",
   "name": "python",
   "nbconvert_exporter": "python",
   "pygments_lexer": "ipython3",
   "version": "3.11.6"
  }
 },
 "nbformat": 4,
 "nbformat_minor": 2
}
