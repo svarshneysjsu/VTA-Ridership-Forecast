{
 "cells": [
  {
   "cell_type": "code",
   "execution_count": 1,
   "metadata": {},
   "outputs": [],
   "source": [
    "import polars as pl\n",
    "import os"
   ]
  },
  {
   "cell_type": "code",
   "execution_count": 2,
   "metadata": {},
   "outputs": [],
   "source": [
    "CLEAN_DATA_FOLDER = \"clean_data\""
   ]
  },
  {
   "cell_type": "code",
   "execution_count": 3,
   "metadata": {},
   "outputs": [],
   "source": [
    "ridership = pl.scan_csv(os.path.join(CLEAN_DATA_FOLDER, \"ridership.csv\"))\n",
    "ridership = ridership.select(\n",
    "    [\n",
    "        \"Year\",\n",
    "        \"Day\",\n",
    "        \"Line\",\n",
    "        \"Service\",\n",
    "        \"Direction Number\",\n",
    "        \"Sequence\",\n",
    "        \"Latitude\",\n",
    "        \"Longitude\",\n",
    "        \"Tmax\",\n",
    "        \"Tmin\",\n",
    "        \"Prcp\",\n",
    "        \"On\",\n",
    "        \"Off\",\n",
    "    ]\n",
    ")"
   ]
  },
  {
   "cell_type": "code",
   "execution_count": 4,
   "metadata": {},
   "outputs": [],
   "source": [
    "train = ridership.filter(pl.col(\"Year\") < 2017).select(pl.all().exclude(\"Year\"))\n",
    "#train50 = train.with_row_index().filter(pl.col(\"index\").hash(42) % 2 == 1).drop(\"index\")"
   ]
  },
  {
   "cell_type": "code",
   "execution_count": 5,
   "metadata": {},
   "outputs": [],
   "source": [
    "test = ridership.filter(pl.col(\"Year\") >= 2017).select(pl.all().exclude(\"Year\"))\n",
    "#test50 = test.with_row_index().filter(pl.col(\"index\").hash(42) % 2 == 1).drop(\"index\")"
   ]
  },
  {
   "cell_type": "code",
   "execution_count": 6,
   "metadata": {},
   "outputs": [],
   "source": [
    "train.collect(streaming=True).write_csv(os.path.join(CLEAN_DATA_FOLDER, \"train.csv\"))\n",
    "#train50.collect(streaming=True).write_csv(os.path.join(CLEAN_DATA_FOLDER, \"train50.csv\"))"
   ]
  },
  {
   "cell_type": "code",
   "execution_count": 7,
   "metadata": {},
   "outputs": [],
   "source": [
    "test.collect(streaming=True).write_csv(os.path.join(CLEAN_DATA_FOLDER, \"test.csv\"))\n",
    "#test50.collect(streaming=True).write_csv(os.path.join(CLEAN_DATA_FOLDER, \"test50.csv\"))"
   ]
  }
 ],
 "metadata": {
  "kernelspec": {
   "display_name": "Python 3",
   "language": "python",
   "name": "python3"
  },
  "language_info": {
   "codemirror_mode": {
    "name": "ipython",
    "version": 3
   },
   "file_extension": ".py",
   "mimetype": "text/x-python",
   "name": "python",
   "nbconvert_exporter": "python",
   "pygments_lexer": "ipython3",
   "version": "3.11.9"
  }
 },
 "nbformat": 4,
 "nbformat_minor": 2
}
